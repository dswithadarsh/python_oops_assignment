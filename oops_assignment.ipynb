{
  "nbformat": 4,
  "nbformat_minor": 0,
  "metadata": {
    "colab": {
      "provenance": [],
      "collapsed_sections": [
        "xj_MHDtlrKxs",
        "trjMAnjS0FZw"
      ]
    },
    "kernelspec": {
      "name": "python3",
      "display_name": "Python 3"
    },
    "language_info": {
      "name": "python"
    }
  },
  "cells": [
    {
      "cell_type": "markdown",
      "source": [
        "# oops assignment"
      ],
      "metadata": {
        "id": "HkYu9jfbrBVB"
      }
    },
    {
      "cell_type": "markdown",
      "source": [
        "  # oops theory question"
      ],
      "metadata": {
        "id": "xj_MHDtlrKxs"
      }
    },
    {
      "cell_type": "markdown",
      "source": [
        "01. What is Object-Oriented Programming (OOP)?"
      ],
      "metadata": {
        "id": "yJMM-K-drP_o"
      }
    },
    {
      "cell_type": "markdown",
      "source": [
        "Ans--> OOP is a programming paradigm that organizes code using objects and classes to model real-world things. It focuses on four principles: Encapsulation, Abstraction, Inheritance, and Polymorphism."
      ],
      "metadata": {
        "id": "LBTvv-LtrWtA"
      }
    },
    {
      "cell_type": "markdown",
      "source": [
        "02. What is a class in OOP+."
      ],
      "metadata": {
        "id": "KZ9XGErIrc3u"
      }
    },
    {
      "cell_type": "markdown",
      "source": [
        "Ans--> A class is a blueprint or template to create objects. It defines attributes (variables) and behaviors (methods) of the objects."
      ],
      "metadata": {
        "id": "fLc3Y5ECrh4o"
      }
    },
    {
      "cell_type": "markdown",
      "source": [
        "03. What is an object in OOP+."
      ],
      "metadata": {
        "id": "pOiOt9NcrsHD"
      }
    },
    {
      "cell_type": "markdown",
      "source": [
        "Ans--> An object is an instance of a class. It represents a specific example of the class."
      ],
      "metadata": {
        "id": "526rr_Ggrw7i"
      }
    },
    {
      "cell_type": "markdown",
      "source": [
        "04. What is the difference between abstraction and encapsulation."
      ],
      "metadata": {
        "id": "KQDCV97Yr2GY"
      }
    },
    {
      "cell_type": "markdown",
      "source": [
        "Ans--> 🔹Abstraction: Hiding implementation details and showing only essential features.\n",
        "\n",
        "🔹 Encapsulation: Wrapping data and methods into a single unit (class) and restricting access.\n",
        "\n"
      ],
      "metadata": {
        "id": "R6UPRaKor9m8"
      }
    },
    {
      "cell_type": "markdown",
      "source": [
        "05. What are dunder methods in Python"
      ],
      "metadata": {
        "id": "bGen6dcasT4p"
      }
    },
    {
      "cell_type": "markdown",
      "source": [
        "Ans--> Dunder (double underscore) methods like __init__, __str__, __len__ are special methods used to define behavior for built-in operations.\n",
        "\n"
      ],
      "metadata": {
        "id": "Xtuh93M6saqu"
      }
    },
    {
      "cell_type": "markdown",
      "source": [
        "06. Explain the concept of inheritance in OOPH."
      ],
      "metadata": {
        "id": "VNaVIW7Wsk9-"
      }
    },
    {
      "cell_type": "markdown",
      "source": [
        "Ans--> Inheritance allows a class to inherit properties and methods from another class."
      ],
      "metadata": {
        "id": "fb6bXtICsqNk"
      }
    },
    {
      "cell_type": "markdown",
      "source": [
        "07. What is polymorphism in OOP."
      ],
      "metadata": {
        "id": "YIPveU2_sxo2"
      }
    },
    {
      "cell_type": "markdown",
      "source": [
        "Ans--> Polymorphism means same method, different behavior. For example, the same method name works differently for different objects."
      ],
      "metadata": {
        "id": "2S726Ho_s54d"
      }
    },
    {
      "cell_type": "markdown",
      "source": [
        "08. How is encapsulation achieved in Python"
      ],
      "metadata": {
        "id": "5vVOS33atBoC"
      }
    },
    {
      "cell_type": "markdown",
      "source": [
        "Ans--> Encapsulation is achieved by making attributes private or protected using _ or __ and controlling access using getters/setters.\n",
        "\n"
      ],
      "metadata": {
        "id": "n42yP6l5tGBV"
      }
    },
    {
      "cell_type": "markdown",
      "source": [
        "09. What is a constructor in Python"
      ],
      "metadata": {
        "id": "lc7c5JzetLJj"
      }
    },
    {
      "cell_type": "markdown",
      "source": [
        "Ans--> A constructor is the __init__() method in Python. It runs when an object is created and is used to initialize the object.\n",
        "\n"
      ],
      "metadata": {
        "id": "BrRxxeGptPK4"
      }
    },
    {
      "cell_type": "markdown",
      "source": [
        "10. What are class and static methods in Python"
      ],
      "metadata": {
        "id": "_-Gv3oQqtWIB"
      }
    },
    {
      "cell_type": "markdown",
      "source": [
        "Ans--> @classmethod: Takes cls as the first argument.\n",
        "\n",
        "@staticmethod: Doesn’t take self or cls.\n",
        "\n"
      ],
      "metadata": {
        "id": "PShhHsjftakR"
      }
    },
    {
      "cell_type": "markdown",
      "source": [
        "11. What is method overloading in Python"
      ],
      "metadata": {
        "id": "VrH6R_nntl-s"
      }
    },
    {
      "cell_type": "markdown",
      "source": [
        "AAns--> Python doesn’t support traditional method overloading. But we can simulate it using default arguments or *args.\n",
        "\n"
      ],
      "metadata": {
        "id": "4QjFZMKbtrHh"
      }
    },
    {
      "cell_type": "markdown",
      "source": [
        "12. What is method overriding in OOP?"
      ],
      "metadata": {
        "id": "ihecJzK0twZl"
      }
    },
    {
      "cell_type": "markdown",
      "source": [
        "Ans--> When a child class provides its own version of a method defined in the parent class."
      ],
      "metadata": {
        "id": "fsPQ857Yt4SD"
      }
    },
    {
      "cell_type": "markdown",
      "source": [
        "13. What is a property decorator in Python."
      ],
      "metadata": {
        "id": "gABHjyhEt8ri"
      }
    },
    {
      "cell_type": "markdown",
      "source": [
        "Ans--> The @property decorator turns a method into a read-only attribute."
      ],
      "metadata": {
        "id": "cEpVTc4muBT_"
      }
    },
    {
      "cell_type": "markdown",
      "source": [
        "14. Why is polymorphism important in OOP."
      ],
      "metadata": {
        "id": "Kcl_vAOXuICE"
      }
    },
    {
      "cell_type": "markdown",
      "source": [
        "Ans--> It improves flexibility and code reuse, allowing functions to work with different types of objects."
      ],
      "metadata": {
        "id": "eWUD2CJeuNHP"
      }
    },
    {
      "cell_type": "markdown",
      "source": [
        "15. What is an abstract class in Python?"
      ],
      "metadata": {
        "id": "fJFW39PiuSOK"
      }
    },
    {
      "cell_type": "markdown",
      "source": [
        "Ans--> An abstract class contains abstract methods and can't be instantiated. Use abc module."
      ],
      "metadata": {
        "id": "gU51UOA5uWU6"
      }
    },
    {
      "cell_type": "markdown",
      "source": [
        "16. What are the advantages of OOP?"
      ],
      "metadata": {
        "id": "OA5x-hqCucy1"
      }
    },
    {
      "cell_type": "markdown",
      "source": [
        "Ams-->\n",
        "*  Code Reusability\n",
        "\n",
        "* Modularity\n",
        "\n",
        "* Easy to maintain\n",
        "\n",
        "* Data hiding (security)\n",
        "\n"
      ],
      "metadata": {
        "id": "BMvhudBxug1h"
      }
    },
    {
      "cell_type": "markdown",
      "source": [
        "17. Difference between class variable and instance variable"
      ],
      "metadata": {
        "id": "Jpjrj55fuxh4"
      }
    },
    {
      "cell_type": "markdown",
      "source": [
        "Ans-->🔹 Class variable is shared by all objects of the class, whereas instance variable is unique for each object.\n",
        "\n",
        "🔹 Class variable is defined outside __init__(), while instance variable is defined inside __init__() using self.\n",
        "\n",
        "🔹 Changing a class variable affects all instances, but changing an instance variable affects only that object."
      ],
      "metadata": {
        "id": "zhWLwib6u17r"
      }
    },
    {
      "cell_type": "markdown",
      "source": [
        "18. What is multiple inheritance in Python"
      ],
      "metadata": {
        "id": "MC98d32-yFjK"
      }
    },
    {
      "cell_type": "markdown",
      "source": [
        "Ans--> A class can inherit from more than one parent class."
      ],
      "metadata": {
        "id": "8BgPmvUmyQ8J"
      }
    },
    {
      "cell_type": "markdown",
      "source": [
        "19.  Explain the purpose of ‘’__str__’ and ‘__repr__’ ‘ methods in Python."
      ],
      "metadata": {
        "id": "bKyObtrgybTw"
      }
    },
    {
      "cell_type": "markdown",
      "source": [
        "Ans-->\n",
        "* __str__: Used by print() and str(), meant for users.\n",
        "\n",
        "* __repr__: Used by developers/debuggers"
      ],
      "metadata": {
        "id": "_tJVrK1DyfiA"
      }
    },
    {
      "cell_type": "markdown",
      "source": [
        "20. What is the significance of the ‘super()’ function in Python"
      ],
      "metadata": {
        "id": "-iOeZ6G4yqe7"
      }
    },
    {
      "cell_type": "markdown",
      "source": [
        "Ans--> super() lets you call methods from the parent class. Often used in constructors"
      ],
      "metadata": {
        "id": "IUW8E40KywXP"
      }
    },
    {
      "cell_type": "markdown",
      "source": [
        "21. What is the significance of the __del__ method in Python"
      ],
      "metadata": {
        "id": "kQpwxgNey2NP"
      }
    },
    {
      "cell_type": "markdown",
      "source": [
        "Ans--> The __del__ method is a destructor, called when the object is about to be destroyed.\n",
        "\n"
      ],
      "metadata": {
        "id": "KsDC9Gsey5sG"
      }
    },
    {
      "cell_type": "markdown",
      "source": [
        "22. What is the difference between @staticmethod and @classmethod in Python"
      ],
      "metadata": {
        "id": "Ad09N9dJy_BZ"
      }
    },
    {
      "cell_type": "markdown",
      "source": [
        "Ans--> 🔹 @staticmethod does not take self or cls as the first argument, while @classmethod takes cls as the first argument.\n",
        "\n",
        "🔹 @staticmethod can't access class or instance data, whereas @classmethod can access and modify class-level data.\n",
        "\n",
        "🔹 @staticmethod behaves like a normal function inside a class, while @classmethod is used when you need access to the class itself"
      ],
      "metadata": {
        "id": "eZSRkymVzCPM"
      }
    },
    {
      "cell_type": "markdown",
      "source": [
        "23. How does polymorphism work in Python with inheritance"
      ],
      "metadata": {
        "id": "D9RmfSxUzPhZ"
      }
    },
    {
      "cell_type": "markdown",
      "source": [
        "Ans--> Subclasses can override methods of the base class, and polymorphism allows calling them through the base class reference."
      ],
      "metadata": {
        "id": "2uXIZT-szTHL"
      }
    },
    {
      "cell_type": "markdown",
      "source": [
        "24. What is method chaining in Python OOP"
      ],
      "metadata": {
        "id": "gigQomUyzcau"
      }
    },
    {
      "cell_type": "markdown",
      "source": [
        "Ans--> Returning self from a method allows you to chain multiple method calls."
      ],
      "metadata": {
        "id": "t7gmigJpzgjA"
      }
    },
    {
      "cell_type": "code",
      "source": [
        "class Builder:\n",
        "    def step1(self):\n",
        "        return self\n",
        "    def step2(self):\n",
        "        return self\n",
        "\n",
        "obj = Builder().step1().step2()\n"
      ],
      "metadata": {
        "id": "L7F0Eu08zkm-"
      },
      "execution_count": null,
      "outputs": []
    },
    {
      "cell_type": "markdown",
      "source": [
        "25. What is the purpose of the __call__ method in Python"
      ],
      "metadata": {
        "id": "BBdlIxCIzm2c"
      }
    },
    {
      "cell_type": "markdown",
      "source": [
        "Ans--> Allows an object to be called like a function.\n",
        "\n",
        "\n"
      ],
      "metadata": {
        "id": "I8AAtRvozqAz"
      }
    },
    {
      "cell_type": "code",
      "source": [
        "class Adder:\n",
        "    def __call__(self, x, y):\n",
        "        return x + y\n",
        "\n",
        "add = Adder()\n",
        "print(add(2, 3))  # Output: 5\n"
      ],
      "metadata": {
        "id": "WElhnTv8zukE"
      },
      "execution_count": null,
      "outputs": []
    },
    {
      "cell_type": "markdown",
      "source": [
        "#  oops practice ques"
      ],
      "metadata": {
        "id": "trjMAnjS0FZw"
      }
    },
    {
      "cell_type": "markdown",
      "source": [
        "01.  Create a parent class Animal with a method speak() that prints a generic message. Create a child class Dog\n",
        "that overrides the speak() method to print \"Bark!\""
      ],
      "metadata": {
        "id": "ohJgnj2Z0ICS"
      }
    },
    {
      "cell_type": "code",
      "source": [
        "# Parent class\n",
        "class Animal:\n",
        "    def speak(self):\n",
        "        print(\"Animal makes a sound\")\n",
        "\n",
        "# Child class\n",
        "class Dog(Animal):\n",
        "    def speak(self):\n",
        "        print(\"Bark!\")\n",
        "\n",
        "# Test the classes\n",
        "a = Animal()\n",
        "a.speak()   # Output: Animal makes a sound\n",
        "\n",
        "d = Dog()\n",
        "d.speak()   # Output: Bark!\n"
      ],
      "metadata": {
        "id": "6WAfpBoC0TOs"
      },
      "execution_count": null,
      "outputs": []
    },
    {
      "cell_type": "markdown",
      "source": [
        "2. Write a program to create an abstract class Shape with a method area(). Derive classes Circle and Rectangle\n",
        "from it and implement the area() method in both.\n",
        "\n",
        "\n"
      ],
      "metadata": {
        "id": "5eF_IrvJ0b9J"
      }
    },
    {
      "cell_type": "code",
      "source": [
        "from abc import ABC, abstractmethod\n",
        "import math\n",
        "\n",
        "# Abstract class\n",
        "class Shape(ABC):\n",
        "    @abstractmethod\n",
        "    def area(self):\n",
        "        pass\n",
        "\n",
        "# Circle class\n",
        "class Circle(Shape):\n",
        "    def __init__(self, radius):\n",
        "        self.radius = radius\n",
        "\n",
        "    def area(self):\n",
        "        return math.pi * self.radius ** 2\n",
        "\n",
        "# Rectangle class\n",
        "class Rectangle(Shape):\n",
        "    def __init__(self, width, height):\n",
        "        self.width = width\n",
        "        self.height = height\n",
        "\n",
        "    def area(self):\n",
        "        return self.width * self.height\n",
        "\n",
        "# Testing\n",
        "c = Circle(5)\n",
        "print(\"Circle Area:\", c.area())  # Output: Circle Area: 78.53981633974483\n",
        "\n",
        "r = Rectangle(4, 6)\n",
        "print(\"Rectangle Area:\", r.area())  # Output: Rectangle Area: 24\n"
      ],
      "metadata": {
        "id": "_bOHj05k0hOg"
      },
      "execution_count": null,
      "outputs": []
    },
    {
      "cell_type": "markdown",
      "source": [
        "3.  Implement a multi-level inheritance scenario where a class Vehicle has an attribute type. Derive a class Car\n",
        "and further derive a class ElectricCar that adds a battery attribute."
      ],
      "metadata": {
        "id": "J9m7jRSy0xEJ"
      }
    },
    {
      "cell_type": "code",
      "source": [
        "# Base class\n",
        "class Vehicle:\n",
        "    def __init__(self, v_type):\n",
        "        self.type = v_type\n",
        "\n",
        "# Derived class from Vehicle\n",
        "class Car(Vehicle):\n",
        "    def __init__(self, v_type, brand):\n",
        "        super().__init__(v_type)\n",
        "        self.brand = brand\n",
        "\n",
        "# Derived class from Car\n",
        "class ElectricCar(Car):\n",
        "    def __init__(self, v_type, brand, battery_capacity):\n",
        "        super().__init__(v_type, brand)\n",
        "        self.battery = battery_capacity\n",
        "\n",
        "    def display_info(self):\n",
        "        print(f\"Type: {self.type}\")\n",
        "        print(f\"Brand: {self.brand}\")\n",
        "        print(f\"Battery: {self.battery} kWh\")\n",
        "\n",
        "# Testing\n",
        "e_car = ElectricCar(\"4-wheeler\", \"Tesla\", 75)\n",
        "e_car.display_info()\n"
      ],
      "metadata": {
        "id": "ko2I_7w302Ec"
      },
      "execution_count": null,
      "outputs": []
    },
    {
      "cell_type": "markdown",
      "source": [
        "4.  Demonstrate polymorphism by creating a base class Bird with a method fly(). Create two derived classes\n",
        "Sparrow and Penguin that override the fly() method"
      ],
      "metadata": {
        "id": "LUSre31w1Hfa"
      }
    },
    {
      "cell_type": "code",
      "source": [
        "# Base class\n",
        "class Bird:\n",
        "    def fly(self):\n",
        "        print(\"Some birds can fly\")\n",
        "\n",
        "# Derived class\n",
        "class Sparrow(Bird):\n",
        "    def fly(self):\n",
        "        print(\"Sparrow flies high in the sky\")\n",
        "\n",
        "# Derived class\n",
        "class Penguin(Bird):\n",
        "    def fly(self):\n",
        "        print(\"Penguins can't fly, they swim\")\n",
        "\n",
        "# Polymorphism in action\n",
        "def bird_flight(bird):\n",
        "    bird.fly()\n",
        "\n",
        "# Testing\n",
        "sparrow = Sparrow()\n",
        "penguin = Penguin()\n",
        "\n",
        "bird_flight(sparrow)  # Output: Sparrow flies high in the sky\n",
        "bird_flight(penguin)  # Output: Penguins can't fly, they swim\n"
      ],
      "metadata": {
        "id": "e0s8WtgV1KVR"
      },
      "execution_count": null,
      "outputs": []
    },
    {
      "cell_type": "markdown",
      "source": [
        "5. Write a program to demonstrate encapsulation by creating a class BankAccount with private attributes\n",
        "balance and methods to deposit, withdraw, and check balance"
      ],
      "metadata": {
        "id": "M9rda_Wj1eXM"
      }
    },
    {
      "cell_type": "code",
      "source": [
        "class BankAccount:\n",
        "    def __init__(self, initial_balance):\n",
        "        self.__balance = initial_balance  # private attribute\n",
        "\n",
        "    # Method to deposit money\n",
        "    def deposit(self, amount):\n",
        "        if amount > 0:\n",
        "            self.__balance += amount\n",
        "            print(f\"Deposited ₹{amount}\")\n",
        "        else:\n",
        "            print(\"Deposit amount must be positive\")\n",
        "\n",
        "    # Method to withdraw money\n",
        "    def withdraw(self, amount):\n",
        "        if 0 < amount <= self.__balance:\n",
        "            self.__balance -= amount\n",
        "            print(f\"Withdrew ₹{amount}\")\n",
        "        else:\n",
        "            print(\"Insufficient balance or invalid amount\")\n",
        "\n",
        "    # Method to check balance\n",
        "    def check_balance(self):\n",
        "        print(f\"Current balance: ₹{self.__balance}\")\n",
        "\n",
        "# Testing\n",
        "account = BankAccount(1000)\n",
        "account.check_balance()     # ₹1000\n",
        "account.deposit(500)        # Deposited ₹500\n",
        "account.withdraw(300)       # Withdrew ₹300\n",
        "account.check_balance()     # ₹1200\n",
        "\n",
        "# Trying to access private variable directly (won't work)\n",
        "# print(account.__balance)  # AttributeError\n"
      ],
      "metadata": {
        "id": "UThTnmsX1hkc"
      },
      "execution_count": null,
      "outputs": []
    },
    {
      "cell_type": "markdown",
      "source": [
        "6. Demonstrate runtime polymorphism using a method play() in a base class Instrument. Derive classes Guitar\n",
        "and Piano that implement their own version of play()"
      ],
      "metadata": {
        "id": "HoWwdQkt1nee"
      }
    },
    {
      "cell_type": "code",
      "source": [
        "# Base class\n",
        "class Instrument:\n",
        "    def play(self):\n",
        "        print(\"Instrument is playing\")\n",
        "\n",
        "# Derived class\n",
        "class Guitar(Instrument):\n",
        "    def play(self):\n",
        "        print(\"Strumming the guitar 🎸\")\n",
        "\n",
        "# Derived class\n",
        "class Piano(Instrument):\n",
        "    def play(self):\n",
        "        print(\"Playing the piano 🎹\")\n",
        "\n",
        "# Function to demonstrate polymorphism\n",
        "def perform(instrument: Instrument):\n",
        "    instrument.play()\n",
        "\n",
        "# Testing\n",
        "g = Guitar()\n",
        "p = Piano()\n",
        "\n",
        "perform(g)  # Output: Strumming the guitar 🎸\n",
        "perform(p)  # Output: Playing the piano 🎹\n"
      ],
      "metadata": {
        "id": "bFwQfOUG1ra8"
      },
      "execution_count": null,
      "outputs": []
    },
    {
      "cell_type": "markdown",
      "source": [
        "7.  Create a class MathOperations with a class method add_numbers() to add two numbers and a static\n",
        "method subtract_numbers() to subtract two numbers"
      ],
      "metadata": {
        "id": "LWABz9e31ziy"
      }
    },
    {
      "cell_type": "code",
      "source": [
        "class MathOperations:\n",
        "\n",
        "    @classmethod\n",
        "    def add_numbers(cls, a, b):\n",
        "        return a + b\n",
        "\n",
        "    @staticmethod\n",
        "    def subtract_numbers(a, b):\n",
        "        return a - b\n",
        "\n",
        "# Testing the methods\n",
        "print(\"Addition:\", MathOperations.add_numbers(10, 5))     # Output: Addition: 15\n",
        "print(\"Subtraction:\", MathOperations.subtract_numbers(10, 5))  # Output: Subtraction: 5\n"
      ],
      "metadata": {
        "id": "LO3LK_pt13F2"
      },
      "execution_count": null,
      "outputs": []
    },
    {
      "cell_type": "markdown",
      "source": [
        "8.  Implement a class Person with a class method to count the total number of persons created"
      ],
      "metadata": {
        "id": "yTTq0tj62Hic"
      }
    },
    {
      "cell_type": "code",
      "source": [
        "class Person:\n",
        "    count = 0  # Class variable to count number of Person objects\n",
        "\n",
        "    def __init__(self, name):\n",
        "        self.name = name\n",
        "        Person.count += 1  # Increment count whenever a new person is created\n",
        "\n",
        "    @classmethod\n",
        "    def get_person_count(cls):\n",
        "        return cls.count\n",
        "\n",
        "# Creating Person objects\n",
        "p1 = Person(\"Adarsh\")\n",
        "p2 = Person(\"Ravi\")\n",
        "p3 = Person(\"Sneha\")\n",
        "\n",
        "# Getting total number of persons created\n",
        "print(\"Total Persons Created:\", Person.get_person_count())  # Output: 3\n"
      ],
      "metadata": {
        "id": "rKjNx4dm2MBU"
      },
      "execution_count": null,
      "outputs": []
    },
    {
      "cell_type": "markdown",
      "source": [
        "9. Write a class Fraction with attributes numerator and denominator. Override the str method to display the\n",
        "fraction as \"numerator/denominator\"."
      ],
      "metadata": {
        "id": "kslE4RKE2QTr"
      }
    },
    {
      "cell_type": "code",
      "source": [
        "class Fraction:\n",
        "    def __init__(self, numerator, denominator):\n",
        "        self.numerator = numerator\n",
        "        self.denominator = denominator\n",
        "\n",
        "    def __str__(self):\n",
        "        return f\"{self.numerator}/{self.denominator}\"\n",
        "\n",
        "# Testing\n",
        "f1 = Fraction(3, 4)\n",
        "f2 = Fraction(5, 8)\n",
        "\n",
        "print(f1)  # Output: 3/4\n",
        "print(f2)  # Output: 5/8\n"
      ],
      "metadata": {
        "id": "sBuqsuB52U7I"
      },
      "execution_count": null,
      "outputs": []
    },
    {
      "cell_type": "markdown",
      "source": [
        "10.  Demonstrate operator overloading by creating a class Vector and overriding the add method to add two\n",
        "vectors."
      ],
      "metadata": {
        "id": "4QF3UcN72XhI"
      }
    },
    {
      "cell_type": "code",
      "source": [
        "class Vector:\n",
        "    def __init__(self, x, y):\n",
        "        self.x = x\n",
        "        self.y = y\n",
        "\n",
        "    # Overloading the + operator\n",
        "    def __add__(self, other):\n",
        "        return Vector(self.x + other.x, self.y + other.y)\n",
        "\n",
        "    # String representation\n",
        "    def __str__(self):\n",
        "        return f\"Vector({self.x}, {self.y})\"\n",
        "\n",
        "# Testing\n",
        "v1 = Vector(2, 3)\n",
        "v2 = Vector(4, 5)\n",
        "\n",
        "v3 = v1 + v2  # Internally calls v1.__add__(v2)\n",
        "print(v3)     # Output: Vector(6, 8)\n"
      ],
      "metadata": {
        "id": "FiMisa5V2cS8"
      },
      "execution_count": null,
      "outputs": []
    },
    {
      "cell_type": "markdown",
      "source": [
        "11. Create a class Person with attributes name and age. Add a method greet() that prints \"Hello, my name is\n",
        "{name} and I am {age} years old"
      ],
      "metadata": {
        "id": "S_hx8gRn2ddI"
      }
    },
    {
      "cell_type": "code",
      "source": [
        "class Person:\n",
        "    def __init__(self, name, age):\n",
        "        self.name = name\n",
        "        self.age = age\n",
        "\n",
        "    def greet(self):\n",
        "        print(f\"Hello, my name is {self.name} and I am {self.age} years old\")\n",
        "\n",
        "# Testing\n",
        "p1 = Person(\"Adarsh\", 22)\n",
        "p1.greet()  # Output: Hello, my name is Adarsh and I am 22 years old\n"
      ],
      "metadata": {
        "colab": {
          "base_uri": "https://localhost:8080/"
        },
        "id": "qg3qD7z52hds",
        "outputId": "d349e84c-dc3e-4705-8eb9-7a61c2bb75a4"
      },
      "execution_count": 1,
      "outputs": [
        {
          "output_type": "stream",
          "name": "stdout",
          "text": [
            "Hello, my name is Adarsh and I am 22 years old\n"
          ]
        }
      ]
    },
    {
      "cell_type": "markdown",
      "source": [
        "12. Implement a class Student with attributes name and grades. Create a method average_grade() to compute\n",
        "the average of the grades"
      ],
      "metadata": {
        "id": "kOyckv9-2pU8"
      }
    },
    {
      "cell_type": "code",
      "source": [
        "class Student:\n",
        "    def __init__(self, name, grades):\n",
        "        self.name = name\n",
        "        self.grades = grades  # Should be a list of numbers\n",
        "\n",
        "    def average_grade(self):\n",
        "        if self.grades:\n",
        "            return sum(self.grades) / len(self.grades)\n",
        "        else:\n",
        "            return 0  # If no grades, return 0 to avoid division by zero\n",
        "\n",
        "# Testing\n",
        "s1 = Student(\"Adarsh\", [85, 90, 78, 92])\n",
        "print(f\"{s1.name}'s average grade is: {s1.average_grade():.2f}\")\n"
      ],
      "metadata": {
        "id": "b530jWlr2wgU"
      },
      "execution_count": null,
      "outputs": []
    },
    {
      "cell_type": "markdown",
      "source": [
        "13.  Create a class Rectangle with methods set_dimensions() to set the dimensions and area() to calculate the\n",
        "area."
      ],
      "metadata": {
        "id": "54H-Zo-P2z1e"
      }
    },
    {
      "cell_type": "code",
      "source": [
        "class Rectangle:\n",
        "    def __init__(self):\n",
        "        self.width = 0\n",
        "        self.height = 0\n",
        "\n",
        "    def set_dimensions(self, width, height):\n",
        "        self.width = width\n",
        "        self.height = height\n",
        "\n",
        "    def area(self):\n",
        "        return self.width * self.height\n",
        "\n",
        "# Testing\n",
        "rect = Rectangle()\n",
        "rect.set_dimensions(5, 10)\n",
        "print(\"Area of rectangle:\", rect.area())  # Output: Area of rectangle: 50\n"
      ],
      "metadata": {
        "id": "qfPlz8IL25kt"
      },
      "execution_count": null,
      "outputs": []
    },
    {
      "cell_type": "markdown",
      "source": [
        "14. Create a class Employee with a method calculate_salary() that computes the salary based on hours worked\n",
        "and hourly rate. Create a derived class Manager that adds a bonus to the salary"
      ],
      "metadata": {
        "id": "pWHPPAvY28_L"
      }
    },
    {
      "cell_type": "code",
      "source": [
        "# Base class\n",
        "class Employee:\n",
        "    def __init__(self, name, hours_worked, hourly_rate):\n",
        "        self.name = name\n",
        "        self.hours_worked = hours_worked\n",
        "        self.hourly_rate = hourly_rate\n",
        "\n",
        "    def calculate_salary(self):\n",
        "        return self.hours_worked * self.hourly_rate\n",
        "\n",
        "# Derived class\n",
        "class Manager(Employee):\n",
        "    def __init__(self, name, hours_worked, hourly_rate, bonus):\n",
        "        super().__init__(name, hours_worked, hourly_rate)\n",
        "        self.bonus = bonus\n",
        "\n",
        "    def calculate_salary(self):\n",
        "        base_salary = super().calculate_salary()\n",
        "        return base_salary + self.bonus\n",
        "\n",
        "# Testing\n",
        "emp = Employee(\"John\", 40, 200)\n",
        "print(f\"{emp.name}'s Salary: ₹{emp.calculate_salary()}\")  # Output: ₹8000\n",
        "\n",
        "mgr = Manager(\"Adarsh\", 40, 250, 5000)\n",
        "print(f\"{mgr.name}'s Salary: ₹{mgr.calculate_salary()}\")  # Output: ₹15000\n"
      ],
      "metadata": {
        "id": "rL4KScm43BZz"
      },
      "execution_count": null,
      "outputs": []
    },
    {
      "cell_type": "markdown",
      "source": [
        "15. Create a class Product with attributes name, price, and quantity. Implement a method total_price() that\n",
        "calculates the total price of the product"
      ],
      "metadata": {
        "id": "RiXpj9yd3Eke"
      }
    },
    {
      "cell_type": "code",
      "source": [
        "class Product:\n",
        "    def __init__(self, name, price, quantity):\n",
        "        self.name = name\n",
        "        self.price = price\n",
        "        self.quantity = quantity\n",
        "\n",
        "    def total_price(self):\n",
        "        return self.price * self.quantity\n",
        "\n",
        "# Testing\n",
        "p1 = Product(\"Laptop\", 50000, 2)\n",
        "print(f\"Total price for {p1.name}s: ₹{p1.total_price()}\")  # Output: ₹100000\n"
      ],
      "metadata": {
        "id": "c0ICllqn3JVr"
      },
      "execution_count": null,
      "outputs": []
    },
    {
      "cell_type": "markdown",
      "source": [
        "16. Create a class Animal with an abstract method sound(). Create two derived classes Cow and Sheep that\n",
        "implement the sound() method"
      ],
      "metadata": {
        "id": "qlUaLiIn3L_P"
      }
    },
    {
      "cell_type": "code",
      "source": [
        "from abc import ABC, abstractmethod\n",
        "\n",
        "# Abstract base class\n",
        "class Animal(ABC):\n",
        "    @abstractmethod\n",
        "    def sound(self):\n",
        "        pass\n",
        "\n",
        "# Derived class: Cow\n",
        "class Cow(Animal):\n",
        "    def sound(self):\n",
        "        return \"Moo\"\n",
        "\n",
        "# Derived class: Sheep\n",
        "class Sheep(Animal):\n",
        "    def sound(self):\n",
        "        return \"Baa\"\n",
        "\n",
        "# Testing\n",
        "cow = Cow()\n",
        "sheep = Sheep()\n",
        "\n",
        "print(\"Cow sound:\", cow.sound())     # Output: Moo\n",
        "print(\"Sheep sound:\", sheep.sound()) # Output: Baa\n"
      ],
      "metadata": {
        "id": "18itvhmR3SSp"
      },
      "execution_count": null,
      "outputs": []
    },
    {
      "cell_type": "markdown",
      "source": [
        "17. Create a class Book with attributes title, author, and year_published. Add a method get_book_info() that\n",
        "returns a formatted string with the book's details.\n",
        "\n",
        "\n"
      ],
      "metadata": {
        "id": "Vdd3XELW3TO3"
      }
    },
    {
      "cell_type": "code",
      "source": [
        "class Book:\n",
        "    def __init__(self, title, author, year_published):\n",
        "        self.title = title\n",
        "        self.author = author\n",
        "        self.year_published = year_published\n",
        "\n",
        "    def get_book_info(self):\n",
        "        return f\"'{self.title}' by {self.author}, published in {self.year_published}\"\n",
        "\n",
        "# Testing\n",
        "book1 = Book(\"The Alchemist\", \"Paulo Coelho\", 1988)\n",
        "print(book1.get_book_info())  # Output: 'The Alchemist' by Paulo Coelho, published in 1988\n"
      ],
      "metadata": {
        "id": "idCCcl9u3Y_b"
      },
      "execution_count": null,
      "outputs": []
    },
    {
      "cell_type": "markdown",
      "source": [
        "18.  Create a class House with attributes address and price. Create a derived class Mansion that adds an\n",
        "attribute number_of_rooms."
      ],
      "metadata": {
        "id": "wjr_1eEc3aHT"
      }
    },
    {
      "cell_type": "code",
      "source": [
        "# Base class\n",
        "class House:\n",
        "    def __init__(self, address, price):\n",
        "        self.address = address\n",
        "        self.price = price\n",
        "\n",
        "# Derived class\n",
        "class Mansion(House):\n",
        "    def __init__(self, address, price, number_of_rooms):\n",
        "        super().__init__(address, price)\n",
        "        self.number_of_rooms = number_of_rooms\n",
        "\n",
        "    def display_info(self):\n",
        "        print(f\"Address: {self.address}\")\n",
        "        print(f\"Price: ₹{self.price}\")\n",
        "        print(f\"Number of Rooms: {self.number_of_rooms}\")\n",
        "\n",
        "# Testing\n",
        "m1 = Mansion(\"123 Royal Street\", 25000000, 10)\n",
        "m1.display_info()\n"
      ],
      "metadata": {
        "id": "vW1v0eFs3d_Q"
      },
      "execution_count": null,
      "outputs": []
    }
  ]
}